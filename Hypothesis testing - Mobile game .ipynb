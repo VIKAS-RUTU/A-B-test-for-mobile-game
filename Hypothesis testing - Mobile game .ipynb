{
 "cells": [
  {
   "cell_type": "markdown",
   "id": "03d4b012-b3f6-4863-91a4-e2df31c9cce9",
   "metadata": {},
   "source": [
    "# Mobile games A/B testing"
   ]
  },
  {
   "cell_type": "markdown",
   "id": "79688556-1909-45e6-83a3-13874fcfbabf",
   "metadata": {},
   "source": [
    "### Importing Dataset and priliminary observations"
   ]
  },
  {
   "cell_type": "code",
   "execution_count": 1,
   "id": "9ae779ef-94b4-4a3a-8670-4d86266bf0e6",
   "metadata": {},
   "outputs": [],
   "source": [
    "import pandas as pd\n",
    "import numpy as np\n",
    "import matplotlib.pyplot as plt\n",
    "import seaborn as sns"
   ]
  },
  {
   "cell_type": "code",
   "execution_count": 2,
   "id": "0b8a9121-872a-4686-9b01-a42a521ab322",
   "metadata": {},
   "outputs": [
    {
     "data": {
      "text/html": [
       "<div>\n",
       "<style scoped>\n",
       "    .dataframe tbody tr th:only-of-type {\n",
       "        vertical-align: middle;\n",
       "    }\n",
       "\n",
       "    .dataframe tbody tr th {\n",
       "        vertical-align: top;\n",
       "    }\n",
       "\n",
       "    .dataframe thead th {\n",
       "        text-align: right;\n",
       "    }\n",
       "</style>\n",
       "<table border=\"1\" class=\"dataframe\">\n",
       "  <thead>\n",
       "    <tr style=\"text-align: right;\">\n",
       "      <th></th>\n",
       "      <th>userid</th>\n",
       "      <th>version</th>\n",
       "      <th>sum_gamerounds</th>\n",
       "      <th>retention_1</th>\n",
       "      <th>retention_7</th>\n",
       "    </tr>\n",
       "  </thead>\n",
       "  <tbody>\n",
       "    <tr>\n",
       "      <th>0</th>\n",
       "      <td>116</td>\n",
       "      <td>gate_30</td>\n",
       "      <td>3</td>\n",
       "      <td>False</td>\n",
       "      <td>False</td>\n",
       "    </tr>\n",
       "    <tr>\n",
       "      <th>1</th>\n",
       "      <td>337</td>\n",
       "      <td>gate_30</td>\n",
       "      <td>38</td>\n",
       "      <td>True</td>\n",
       "      <td>False</td>\n",
       "    </tr>\n",
       "    <tr>\n",
       "      <th>2</th>\n",
       "      <td>377</td>\n",
       "      <td>gate_40</td>\n",
       "      <td>165</td>\n",
       "      <td>True</td>\n",
       "      <td>False</td>\n",
       "    </tr>\n",
       "    <tr>\n",
       "      <th>3</th>\n",
       "      <td>483</td>\n",
       "      <td>gate_40</td>\n",
       "      <td>1</td>\n",
       "      <td>False</td>\n",
       "      <td>False</td>\n",
       "    </tr>\n",
       "    <tr>\n",
       "      <th>4</th>\n",
       "      <td>488</td>\n",
       "      <td>gate_40</td>\n",
       "      <td>179</td>\n",
       "      <td>True</td>\n",
       "      <td>True</td>\n",
       "    </tr>\n",
       "  </tbody>\n",
       "</table>\n",
       "</div>"
      ],
      "text/plain": [
       "   userid  version  sum_gamerounds  retention_1  retention_7\n",
       "0     116  gate_30               3        False        False\n",
       "1     337  gate_30              38         True        False\n",
       "2     377  gate_40             165         True        False\n",
       "3     483  gate_40               1        False        False\n",
       "4     488  gate_40             179         True         True"
      ]
     },
     "execution_count": 2,
     "metadata": {},
     "output_type": "execute_result"
    }
   ],
   "source": [
    "data = pd.read_csv(\"cookie_cats.csv\")\n",
    "data.head()"
   ]
  },
  {
   "cell_type": "code",
   "execution_count": 3,
   "id": "5e99aa6e-8972-4dcc-a29b-e1d2b9fd57a4",
   "metadata": {},
   "outputs": [
    {
     "data": {
      "text/plain": [
       "userid            0\n",
       "version           0\n",
       "sum_gamerounds    0\n",
       "retention_1       0\n",
       "retention_7       0\n",
       "dtype: int64"
      ]
     },
     "execution_count": 3,
     "metadata": {},
     "output_type": "execute_result"
    }
   ],
   "source": [
    "# Check null values\n",
    "\n",
    "data.isnull().sum()"
   ]
  },
  {
   "cell_type": "code",
   "execution_count": 4,
   "id": "00b02fc8-3b75-4ad5-8718-976338228677",
   "metadata": {},
   "outputs": [
    {
     "data": {
      "text/html": [
       "<div>\n",
       "<style scoped>\n",
       "    .dataframe tbody tr th:only-of-type {\n",
       "        vertical-align: middle;\n",
       "    }\n",
       "\n",
       "    .dataframe tbody tr th {\n",
       "        vertical-align: top;\n",
       "    }\n",
       "\n",
       "    .dataframe thead th {\n",
       "        text-align: right;\n",
       "    }\n",
       "</style>\n",
       "<table border=\"1\" class=\"dataframe\">\n",
       "  <thead>\n",
       "    <tr style=\"text-align: right;\">\n",
       "      <th></th>\n",
       "      <th>userid</th>\n",
       "      <th>sum_gamerounds</th>\n",
       "      <th>retention_1</th>\n",
       "      <th>retention_7</th>\n",
       "    </tr>\n",
       "    <tr>\n",
       "      <th>version</th>\n",
       "      <th></th>\n",
       "      <th></th>\n",
       "      <th></th>\n",
       "      <th></th>\n",
       "    </tr>\n",
       "  </thead>\n",
       "  <tbody>\n",
       "    <tr>\n",
       "      <th>gate_30</th>\n",
       "      <td>44700</td>\n",
       "      <td>44700</td>\n",
       "      <td>44700</td>\n",
       "      <td>44700</td>\n",
       "    </tr>\n",
       "    <tr>\n",
       "      <th>gate_40</th>\n",
       "      <td>45489</td>\n",
       "      <td>45489</td>\n",
       "      <td>45489</td>\n",
       "      <td>45489</td>\n",
       "    </tr>\n",
       "  </tbody>\n",
       "</table>\n",
       "</div>"
      ],
      "text/plain": [
       "         userid  sum_gamerounds  retention_1  retention_7\n",
       "version                                                  \n",
       "gate_30   44700           44700        44700        44700\n",
       "gate_40   45489           45489        45489        45489"
      ]
     },
     "execution_count": 4,
     "metadata": {},
     "output_type": "execute_result"
    }
   ],
   "source": [
    "# Balance of the data\n",
    "\n",
    "data.groupby('version').count()\n",
    "# data['version'].value_counts()"
   ]
  },
  {
   "cell_type": "code",
   "execution_count": 5,
   "id": "9248f4a7-3418-47b1-8aee-a46fb57dc00f",
   "metadata": {},
   "outputs": [
    {
     "data": {
      "image/png": "[encoded data removed]",
      "text/plain": [
       "<Figure size 432x360 with 1 Axes>"
      ]
     },
     "metadata": {
      "needs_background": "light"
     },
     "output_type": "display_data"
    }
   ],
   "source": [
    "# Box plot\n",
    "\n",
    "plt.figure(figsize=(6,5))\n",
    "sns.boxplot(data['sum_gamerounds'])\n",
    "plt.show()"
   ]
  },
  {
   "cell_type": "code",
   "execution_count": 6,
   "id": "7abf9f2d-9555-4f04-b40a-ee9503c05638",
   "metadata": {},
   "outputs": [],
   "source": [
    "# There is an outlier who has played 50000 game rounds in the first week"
   ]
  },
  {
   "cell_type": "code",
   "execution_count": 7,
   "id": "fff35873-4e6f-4896-82d3-c73444abc37b",
   "metadata": {},
   "outputs": [
    {
     "data": {
      "text/plain": [
       "count    90189.000000\n",
       "mean        51.872457\n",
       "std        195.050858\n",
       "min          0.000000\n",
       "25%          5.000000\n",
       "50%         16.000000\n",
       "75%         51.000000\n",
       "max      49854.000000\n",
       "Name: sum_gamerounds, dtype: float64"
      ]
     },
     "execution_count": 7,
     "metadata": {},
     "output_type": "execute_result"
    }
   ],
   "source": [
    "data['sum_gamerounds'].describe()"
   ]
  },
  {
   "cell_type": "code",
   "execution_count": 8,
   "id": "b665b701-7a4c-4f3b-9b79-9000ed126f0c",
   "metadata": {},
   "outputs": [
    {
     "data": {
      "text/html": [
       "<div>\n",
       "<style scoped>\n",
       "    .dataframe tbody tr th:only-of-type {\n",
       "        vertical-align: middle;\n",
       "    }\n",
       "\n",
       "    .dataframe tbody tr th {\n",
       "        vertical-align: top;\n",
       "    }\n",
       "\n",
       "    .dataframe thead th {\n",
       "        text-align: right;\n",
       "    }\n",
       "</style>\n",
       "<table border=\"1\" class=\"dataframe\">\n",
       "  <thead>\n",
       "    <tr style=\"text-align: right;\">\n",
       "      <th></th>\n",
       "      <th>userid</th>\n",
       "      <th>cum_sum</th>\n",
       "      <th>cum_sum_perc</th>\n",
       "    </tr>\n",
       "    <tr>\n",
       "      <th>sum_gamerounds</th>\n",
       "      <th></th>\n",
       "      <th></th>\n",
       "      <th></th>\n",
       "    </tr>\n",
       "  </thead>\n",
       "  <tbody>\n",
       "    <tr>\n",
       "      <th>0</th>\n",
       "      <td>3994</td>\n",
       "      <td>3994</td>\n",
       "      <td>4.4</td>\n",
       "    </tr>\n",
       "    <tr>\n",
       "      <th>1</th>\n",
       "      <td>5538</td>\n",
       "      <td>9532</td>\n",
       "      <td>10.6</td>\n",
       "    </tr>\n",
       "    <tr>\n",
       "      <th>2</th>\n",
       "      <td>4606</td>\n",
       "      <td>14138</td>\n",
       "      <td>15.7</td>\n",
       "    </tr>\n",
       "    <tr>\n",
       "      <th>3</th>\n",
       "      <td>3958</td>\n",
       "      <td>18096</td>\n",
       "      <td>20.1</td>\n",
       "    </tr>\n",
       "    <tr>\n",
       "      <th>4</th>\n",
       "      <td>3629</td>\n",
       "      <td>21725</td>\n",
       "      <td>24.1</td>\n",
       "    </tr>\n",
       "  </tbody>\n",
       "</table>\n",
       "</div>"
      ],
      "text/plain": [
       "                userid  cum_sum  cum_sum_perc\n",
       "sum_gamerounds                               \n",
       "0                 3994     3994           4.4\n",
       "1                 5538     9532          10.6\n",
       "2                 4606    14138          15.7\n",
       "3                 3958    18096          20.1\n",
       "4                 3629    21725          24.1"
      ]
     },
     "execution_count": 8,
     "metadata": {},
     "output_type": "execute_result"
    }
   ],
   "source": [
    "# Number of players for each game rounds\n",
    "\n",
    "d1 = data.groupby('sum_gamerounds')['userid'].count()\n",
    "df1 = pd.DataFrame(d1)\n",
    "\n",
    "df1['cum_sum'] = df1['userid'].cumsum()\n",
    "df1.head()\n",
    "\n",
    "df1['cum_sum_perc'] = np.round((df1['cum_sum'] / df1['userid'].sum())*100,1)\n",
    "df1.head()\n",
    "\n",
    "# df1[df1['cum_sum_perc'] > 50].head()\n",
    "# df1[df1['cum_sum_perc'] > 75].head()"
   ]
  },
  {
   "cell_type": "code",
   "execution_count": 9,
   "id": "f6e6b435-1abc-41b2-ad94-1e8074b18126",
   "metadata": {},
   "outputs": [
    {
     "data": {
      "image/png": "[encoded data removed]",
      "text/plain": [
       "<Figure size 576x432 with 1 Axes>"
      ]
     },
     "metadata": {
      "needs_background": "light"
     },
     "output_type": "display_data"
    }
   ],
   "source": [
    "# Plot graph who has played 0 to 100 games within first week playing the game\n",
    "\n",
    "plt.figure(figsize=(8,6))\n",
    "plt.plot(d1[:100])\n",
    "plt.xlabel(\"# Game rounds\")\n",
    "plt.ylabel(\"Number of players\")\n",
    "plt.show()"
   ]
  },
  {
   "cell_type": "code",
   "execution_count": 10,
   "id": "b76c1aa1-5be9-4e49-8626-ca2336ea9c63",
   "metadata": {},
   "outputs": [],
   "source": [
    "# Large number of players play small number of rounds"
   ]
  },
  {
   "cell_type": "markdown",
   "id": "21ea4a51-a5e2-4de1-88d5-16cdb478f09c",
   "metadata": {},
   "source": [
    "### Analysing 1-day retention stats"
   ]
  },
  {
   "cell_type": "code",
   "execution_count": 11,
   "id": "4becaf03-cb1a-4f39-bb1d-ca758c0b733a",
   "metadata": {},
   "outputs": [
    {
     "name": "stdout",
     "output_type": "stream",
     "text": [
      "0.4452095044850259\n",
      "===================================\n",
      "version\n",
      "gate_30    0.448188\n",
      "gate_40    0.442283\n",
      "Name: retention_1, dtype: float64\n"
     ]
    }
   ],
   "source": [
    "# Overall 1-day retention\n",
    "\n",
    "one_day_ret = data['retention_1'].sum() / data['retention_1'].count()\n",
    "print(one_day_ret)\n",
    "print(\"===================================\")\n",
    "\n",
    "# 1-day retention group wise\n",
    "\n",
    "print(data.groupby('version')['retention_1'].mean())"
   ]
  },
  {
   "cell_type": "code",
   "execution_count": 12,
   "id": "f1a483c4-a43c-4d22-ab61-5a6757db53d9",
   "metadata": {},
   "outputs": [],
   "source": [
    "# There is a slight decrease in gate_40 when compared to gate_30"
   ]
  },
  {
   "cell_type": "code",
   "execution_count": 13,
   "id": "baf0e3c1-1f28-4253-8cc4-801fc4b7d5ba",
   "metadata": {},
   "outputs": [
    {
     "data": {
      "text/html": [
       "<div>\n",
       "<style scoped>\n",
       "    .dataframe tbody tr th:only-of-type {\n",
       "        vertical-align: middle;\n",
       "    }\n",
       "\n",
       "    .dataframe tbody tr th {\n",
       "        vertical-align: top;\n",
       "    }\n",
       "\n",
       "    .dataframe thead th {\n",
       "        text-align: right;\n",
       "    }\n",
       "</style>\n",
       "<table border=\"1\" class=\"dataframe\">\n",
       "  <thead>\n",
       "    <tr style=\"text-align: right;\">\n",
       "      <th>version</th>\n",
       "      <th>gate_30</th>\n",
       "      <th>gate_40</th>\n",
       "    </tr>\n",
       "  </thead>\n",
       "  <tbody>\n",
       "    <tr>\n",
       "      <th>retention_1</th>\n",
       "      <td>0.443401</td>\n",
       "      <td>0.438742</td>\n",
       "    </tr>\n",
       "    <tr>\n",
       "      <th>retention_1</th>\n",
       "      <td>0.451065</td>\n",
       "      <td>0.443642</td>\n",
       "    </tr>\n",
       "    <tr>\n",
       "      <th>retention_1</th>\n",
       "      <td>0.447922</td>\n",
       "      <td>0.442144</td>\n",
       "    </tr>\n",
       "    <tr>\n",
       "      <th>retention_1</th>\n",
       "      <td>0.450789</td>\n",
       "      <td>0.441957</td>\n",
       "    </tr>\n",
       "    <tr>\n",
       "      <th>retention_1</th>\n",
       "      <td>0.447783</td>\n",
       "      <td>0.442646</td>\n",
       "    </tr>\n",
       "  </tbody>\n",
       "</table>\n",
       "</div>"
      ],
      "text/plain": [
       "version       gate_30   gate_40\n",
       "retention_1  0.443401  0.438742\n",
       "retention_1  0.451065  0.443642\n",
       "retention_1  0.447922  0.442144\n",
       "retention_1  0.450789  0.441957\n",
       "retention_1  0.447783  0.442646"
      ]
     },
     "execution_count": 13,
     "metadata": {},
     "output_type": "execute_result"
    }
   ],
   "source": [
    "# Bootstrapping the data with replacement\n",
    "\n",
    "boot_1dr = []\n",
    "\n",
    "for i in range(1000):\n",
    "    boot_mean = data.sample(frac=1, replace=True).groupby('version')['retention_1'].mean()\n",
    "    boot_1dr.append(boot_mean)\n",
    "    \n",
    "boot_1dr = pd.DataFrame(boot_1dr)\n",
    "boot_1dr.head()"
   ]
  },
  {
   "cell_type": "code",
   "execution_count": 14,
   "id": "0c9d02e1-e7c8-4179-aa50-63f6bfd995c9",
   "metadata": {},
   "outputs": [
    {
     "data": {
      "text/plain": [
       "<Figure size 576x432 with 0 Axes>"
      ]
     },
     "metadata": {},
     "output_type": "display_data"
    },
    {
     "data": {
      "image/png": "[encoded data removed]",
      "text/plain": [
       "<Figure size 432x288 with 1 Axes>"
      ]
     },
     "metadata": {
      "needs_background": "light"
     },
     "output_type": "display_data"
    }
   ],
   "source": [
    "plt.figure(figsize=(8,6))\n",
    "boot_1dr.plot(kind='density')\n",
    "plt.show()"
   ]
  },
  {
   "cell_type": "code",
   "execution_count": 15,
   "id": "c386e237-5cd0-4b1e-a306-7318bf0b591b",
   "metadata": {},
   "outputs": [
    {
     "data": {
      "text/html": [
       "<div>\n",
       "<style scoped>\n",
       "    .dataframe tbody tr th:only-of-type {\n",
       "        vertical-align: middle;\n",
       "    }\n",
       "\n",
       "    .dataframe tbody tr th {\n",
       "        vertical-align: top;\n",
       "    }\n",
       "\n",
       "    .dataframe thead th {\n",
       "        text-align: right;\n",
       "    }\n",
       "</style>\n",
       "<table border=\"1\" class=\"dataframe\">\n",
       "  <thead>\n",
       "    <tr style=\"text-align: right;\">\n",
       "      <th>version</th>\n",
       "      <th>gate_30</th>\n",
       "      <th>gate_40</th>\n",
       "      <th>diff</th>\n",
       "    </tr>\n",
       "  </thead>\n",
       "  <tbody>\n",
       "    <tr>\n",
       "      <th>retention_1</th>\n",
       "      <td>0.443401</td>\n",
       "      <td>0.438742</td>\n",
       "      <td>1.061752</td>\n",
       "    </tr>\n",
       "    <tr>\n",
       "      <th>retention_1</th>\n",
       "      <td>0.451065</td>\n",
       "      <td>0.443642</td>\n",
       "      <td>1.673262</td>\n",
       "    </tr>\n",
       "    <tr>\n",
       "      <th>retention_1</th>\n",
       "      <td>0.447922</td>\n",
       "      <td>0.442144</td>\n",
       "      <td>1.306728</td>\n",
       "    </tr>\n",
       "    <tr>\n",
       "      <th>retention_1</th>\n",
       "      <td>0.450789</td>\n",
       "      <td>0.441957</td>\n",
       "      <td>1.998347</td>\n",
       "    </tr>\n",
       "    <tr>\n",
       "      <th>retention_1</th>\n",
       "      <td>0.447783</td>\n",
       "      <td>0.442646</td>\n",
       "      <td>1.160601</td>\n",
       "    </tr>\n",
       "  </tbody>\n",
       "</table>\n",
       "</div>"
      ],
      "text/plain": [
       "version       gate_30   gate_40      diff\n",
       "retention_1  0.443401  0.438742  1.061752\n",
       "retention_1  0.451065  0.443642  1.673262\n",
       "retention_1  0.447922  0.442144  1.306728\n",
       "retention_1  0.450789  0.441957  1.998347\n",
       "retention_1  0.447783  0.442646  1.160601"
      ]
     },
     "execution_count": 15,
     "metadata": {},
     "output_type": "execute_result"
    }
   ],
   "source": [
    "# There is some evidence of difference between the 2 columns.\n",
    "# Plot the difference between gate_30 and gate_40\n",
    "\n",
    "boot_1dr['diff'] = ((boot_1dr['gate_30'] - boot_1dr['gate_40']) / boot_1dr['gate_40'])*100\n",
    "boot_1dr.head()"
   ]
  },
  {
   "cell_type": "code",
   "execution_count": 16,
   "id": "47b21f5f-18c5-42e8-87fe-da5c18c8c706",
   "metadata": {},
   "outputs": [
    {
     "data": {
      "image/png": "[encoded data removed]",
      "text/plain": [
       "<Figure size 576x432 with 1 Axes>"
      ]
     },
     "metadata": {
      "needs_background": "light"
     },
     "output_type": "display_data"
    },
    {
     "name": "stdout",
     "output_type": "stream",
     "text": [
      "===================================================================\n",
      "Probability that 1-day retention is greater when gate is 30: 0.962\n"
     ]
    }
   ],
   "source": [
    "plt.figure(figsize=(8,6))\n",
    "boot_1dr['diff'].plot(kind='density')\n",
    "plt.show()\n",
    "\n",
    "print(\"===================================================================\")\n",
    "print(\"Probability that 1-day retention is greater when gate is 30:\", (boot_1dr['diff']>0).mean())"
   ]
  },
  {
   "cell_type": "code",
   "execution_count": 17,
   "id": "e37509cd-186e-4c31-a97b-36710754818b",
   "metadata": {},
   "outputs": [],
   "source": [
    "# 97% of the distribution is above 0 and in favor of gate at level 30"
   ]
  },
  {
   "cell_type": "markdown",
   "id": "3775aef9-51e3-42ec-8c4e-58db6f6dd140",
   "metadata": {},
   "source": [
    "### Analysing 7-day retention stats"
   ]
  },
  {
   "cell_type": "code",
   "execution_count": 18,
   "id": "e8b47c25-d6da-4308-9dcf-62d9a49fb62e",
   "metadata": {},
   "outputs": [
    {
     "data": {
      "text/plain": [
       "version\n",
       "gate_30    0.190201\n",
       "gate_40    0.182000\n",
       "Name: retention_7, dtype: float64"
      ]
     },
     "execution_count": 18,
     "metadata": {},
     "output_type": "execute_result"
    }
   ],
   "source": [
    "# 7-day retention group wise\n",
    "\n",
    "data.groupby('version')['retention_7'].mean()"
   ]
  },
  {
   "cell_type": "code",
   "execution_count": 19,
   "id": "25e57c19-23db-4fb0-bea5-3fdf9545a218",
   "metadata": {},
   "outputs": [
    {
     "data": {
      "text/html": [
       "<div>\n",
       "<style scoped>\n",
       "    .dataframe tbody tr th:only-of-type {\n",
       "        vertical-align: middle;\n",
       "    }\n",
       "\n",
       "    .dataframe tbody tr th {\n",
       "        vertical-align: top;\n",
       "    }\n",
       "\n",
       "    .dataframe thead th {\n",
       "        text-align: right;\n",
       "    }\n",
       "</style>\n",
       "<table border=\"1\" class=\"dataframe\">\n",
       "  <thead>\n",
       "    <tr style=\"text-align: right;\">\n",
       "      <th></th>\n",
       "      <th>userid</th>\n",
       "      <th>version</th>\n",
       "      <th>sum_gamerounds</th>\n",
       "      <th>retention_1</th>\n",
       "      <th>retention_7</th>\n",
       "    </tr>\n",
       "  </thead>\n",
       "  <tbody>\n",
       "    <tr>\n",
       "      <th>0</th>\n",
       "      <td>116</td>\n",
       "      <td>gate_30</td>\n",
       "      <td>3</td>\n",
       "      <td>False</td>\n",
       "      <td>False</td>\n",
       "    </tr>\n",
       "    <tr>\n",
       "      <th>1</th>\n",
       "      <td>337</td>\n",
       "      <td>gate_30</td>\n",
       "      <td>38</td>\n",
       "      <td>True</td>\n",
       "      <td>False</td>\n",
       "    </tr>\n",
       "    <tr>\n",
       "      <th>2</th>\n",
       "      <td>377</td>\n",
       "      <td>gate_40</td>\n",
       "      <td>165</td>\n",
       "      <td>True</td>\n",
       "      <td>False</td>\n",
       "    </tr>\n",
       "    <tr>\n",
       "      <th>3</th>\n",
       "      <td>483</td>\n",
       "      <td>gate_40</td>\n",
       "      <td>1</td>\n",
       "      <td>False</td>\n",
       "      <td>False</td>\n",
       "    </tr>\n",
       "    <tr>\n",
       "      <th>4</th>\n",
       "      <td>488</td>\n",
       "      <td>gate_40</td>\n",
       "      <td>179</td>\n",
       "      <td>True</td>\n",
       "      <td>True</td>\n",
       "    </tr>\n",
       "  </tbody>\n",
       "</table>\n",
       "</div>"
      ],
      "text/plain": [
       "   userid  version  sum_gamerounds  retention_1  retention_7\n",
       "0     116  gate_30               3        False        False\n",
       "1     337  gate_30              38         True        False\n",
       "2     377  gate_40             165         True        False\n",
       "3     483  gate_40               1        False        False\n",
       "4     488  gate_40             179         True         True"
      ]
     },
     "execution_count": 19,
     "metadata": {},
     "output_type": "execute_result"
    }
   ],
   "source": [
    "data.head()"
   ]
  },
  {
   "cell_type": "code",
   "execution_count": 20,
   "id": "fbf92547-e0b6-4f07-93dc-b68f9303b66f",
   "metadata": {},
   "outputs": [
    {
     "data": {
      "text/html": [
       "<div>\n",
       "<style scoped>\n",
       "    .dataframe tbody tr th:only-of-type {\n",
       "        vertical-align: middle;\n",
       "    }\n",
       "\n",
       "    .dataframe tbody tr th {\n",
       "        vertical-align: top;\n",
       "    }\n",
       "\n",
       "    .dataframe thead th {\n",
       "        text-align: right;\n",
       "    }\n",
       "</style>\n",
       "<table border=\"1\" class=\"dataframe\">\n",
       "  <thead>\n",
       "    <tr style=\"text-align: right;\">\n",
       "      <th>version</th>\n",
       "      <th>gate_30</th>\n",
       "      <th>gate_40</th>\n",
       "    </tr>\n",
       "  </thead>\n",
       "  <tbody>\n",
       "    <tr>\n",
       "      <th>retention_7</th>\n",
       "      <td>0.193406</td>\n",
       "      <td>0.181610</td>\n",
       "    </tr>\n",
       "    <tr>\n",
       "      <th>retention_7</th>\n",
       "      <td>0.192713</td>\n",
       "      <td>0.182566</td>\n",
       "    </tr>\n",
       "    <tr>\n",
       "      <th>retention_7</th>\n",
       "      <td>0.188360</td>\n",
       "      <td>0.182653</td>\n",
       "    </tr>\n",
       "    <tr>\n",
       "      <th>retention_7</th>\n",
       "      <td>0.190835</td>\n",
       "      <td>0.180380</td>\n",
       "    </tr>\n",
       "    <tr>\n",
       "      <th>retention_7</th>\n",
       "      <td>0.193098</td>\n",
       "      <td>0.178503</td>\n",
       "    </tr>\n",
       "  </tbody>\n",
       "</table>\n",
       "</div>"
      ],
      "text/plain": [
       "version       gate_30   gate_40\n",
       "retention_7  0.193406  0.181610\n",
       "retention_7  0.192713  0.182566\n",
       "retention_7  0.188360  0.182653\n",
       "retention_7  0.190835  0.180380\n",
       "retention_7  0.193098  0.178503"
      ]
     },
     "execution_count": 20,
     "metadata": {},
     "output_type": "execute_result"
    }
   ],
   "source": [
    "boot_7dr = []\n",
    "\n",
    "for i in range(1000):\n",
    "    boot_mean = data.sample(frac=1, replace=True).groupby('version')['retention_7'].mean()\n",
    "    boot_7dr.append(boot_mean)\n",
    "    \n",
    "boot_7dr = pd.DataFrame(boot_7dr)\n",
    "boot_7dr.head()"
   ]
  },
  {
   "cell_type": "code",
   "execution_count": 21,
   "id": "10511faf-f607-4746-8890-b57e0616c307",
   "metadata": {},
   "outputs": [
    {
     "data": {
      "text/plain": [
       "<Figure size 576x432 with 0 Axes>"
      ]
     },
     "metadata": {},
     "output_type": "display_data"
    },
    {
     "data": {
      "image/png": "[encoded data removed]",
      "text/plain": [
       "<Figure size 432x288 with 1 Axes>"
      ]
     },
     "metadata": {
      "needs_background": "light"
     },
     "output_type": "display_data"
    }
   ],
   "source": [
    "plt.figure(figsize=(8,6))\n",
    "boot_7dr.plot(kind='density')\n",
    "plt.show()"
   ]
  },
  {
   "cell_type": "code",
   "execution_count": 22,
   "id": "cd0d6f2a-8b3f-44f8-940b-769decdd353d",
   "metadata": {},
   "outputs": [
    {
     "data": {
      "text/html": [
       "<div>\n",
       "<style scoped>\n",
       "    .dataframe tbody tr th:only-of-type {\n",
       "        vertical-align: middle;\n",
       "    }\n",
       "\n",
       "    .dataframe tbody tr th {\n",
       "        vertical-align: top;\n",
       "    }\n",
       "\n",
       "    .dataframe thead th {\n",
       "        text-align: right;\n",
       "    }\n",
       "</style>\n",
       "<table border=\"1\" class=\"dataframe\">\n",
       "  <thead>\n",
       "    <tr style=\"text-align: right;\">\n",
       "      <th>version</th>\n",
       "      <th>gate_30</th>\n",
       "      <th>gate_40</th>\n",
       "      <th>diff</th>\n",
       "    </tr>\n",
       "  </thead>\n",
       "  <tbody>\n",
       "    <tr>\n",
       "      <th>retention_7</th>\n",
       "      <td>0.193406</td>\n",
       "      <td>0.181610</td>\n",
       "      <td>6.495331</td>\n",
       "    </tr>\n",
       "    <tr>\n",
       "      <th>retention_7</th>\n",
       "      <td>0.192713</td>\n",
       "      <td>0.182566</td>\n",
       "      <td>5.558010</td>\n",
       "    </tr>\n",
       "    <tr>\n",
       "      <th>retention_7</th>\n",
       "      <td>0.188360</td>\n",
       "      <td>0.182653</td>\n",
       "      <td>3.124769</td>\n",
       "    </tr>\n",
       "    <tr>\n",
       "      <th>retention_7</th>\n",
       "      <td>0.190835</td>\n",
       "      <td>0.180380</td>\n",
       "      <td>5.795954</td>\n",
       "    </tr>\n",
       "    <tr>\n",
       "      <th>retention_7</th>\n",
       "      <td>0.193098</td>\n",
       "      <td>0.178503</td>\n",
       "      <td>8.176514</td>\n",
       "    </tr>\n",
       "  </tbody>\n",
       "</table>\n",
       "</div>"
      ],
      "text/plain": [
       "version       gate_30   gate_40      diff\n",
       "retention_7  0.193406  0.181610  6.495331\n",
       "retention_7  0.192713  0.182566  5.558010\n",
       "retention_7  0.188360  0.182653  3.124769\n",
       "retention_7  0.190835  0.180380  5.795954\n",
       "retention_7  0.193098  0.178503  8.176514"
      ]
     },
     "execution_count": 22,
     "metadata": {},
     "output_type": "execute_result"
    }
   ],
   "source": [
    "boot_7dr['diff'] = ((boot_7dr['gate_30'] - boot_7dr['gate_40']) / boot_7dr['gate_40'])*100\n",
    "boot_7dr.head()"
   ]
  },
  {
   "cell_type": "code",
   "execution_count": 23,
   "id": "54513aca-93f4-440e-ad03-2b3dde322c8c",
   "metadata": {},
   "outputs": [
    {
     "data": {
      "image/png": "[encoded data removed]",
      "text/plain": [
       "<Figure size 576x432 with 1 Axes>"
      ]
     },
     "metadata": {
      "needs_background": "light"
     },
     "output_type": "display_data"
    },
    {
     "name": "stdout",
     "output_type": "stream",
     "text": [
      "===================================================================\n",
      "Probability that 7-day retention is greater when gate is 30: 1.0\n"
     ]
    }
   ],
   "source": [
    "plt.figure(figsize=(8,6))\n",
    "boot_7dr['diff'].plot(kind='density')\n",
    "plt.show()\n",
    "\n",
    "print(\"===================================================================\")\n",
    "print(\"Probability that 7-day retention is greater when gate is 30:\", (boot_7dr['diff']>0).mean())"
   ]
  },
  {
   "cell_type": "code",
   "execution_count": null,
   "id": "5873a45b-2d1a-4989-83bb-b26cea989e7b",
   "metadata": {},
   "outputs": [],
   "source": []
  },
  {
   "cell_type": "markdown",
   "id": "ecbd7f5f-7d2c-4f21-93cb-6ef52c3dc511",
   "metadata": {},
   "source": [
    "### Conclusion"
   ]
  },
  {
   "cell_type": "code",
   "execution_count": 24,
   "id": "111a346d-ef6f-421d-97c7-c18ad8af359d",
   "metadata": {},
   "outputs": [],
   "source": [
    "# From the above 2 analysis, it is clear that the retention rate is higher when the gate is at level 30 than when it is at level 40"
   ]
  },
  {
   "cell_type": "code",
   "execution_count": 25,
   "id": "292eebd6-5a89-4e2e-b8bf-4de34567a952",
   "metadata": {},
   "outputs": [
    {
     "data": {
      "text/html": [
       "<div>\n",
       "<style scoped>\n",
       "    .dataframe tbody tr th:only-of-type {\n",
       "        vertical-align: middle;\n",
       "    }\n",
       "\n",
       "    .dataframe tbody tr th {\n",
       "        vertical-align: top;\n",
       "    }\n",
       "\n",
       "    .dataframe thead th {\n",
       "        text-align: right;\n",
       "    }\n",
       "</style>\n",
       "<table border=\"1\" class=\"dataframe\">\n",
       "  <thead>\n",
       "    <tr style=\"text-align: right;\">\n",
       "      <th></th>\n",
       "      <th>userid</th>\n",
       "      <th>version</th>\n",
       "      <th>sum_gamerounds</th>\n",
       "      <th>retention_1</th>\n",
       "      <th>retention_7</th>\n",
       "    </tr>\n",
       "  </thead>\n",
       "  <tbody>\n",
       "    <tr>\n",
       "      <th>0</th>\n",
       "      <td>116</td>\n",
       "      <td>gate_30</td>\n",
       "      <td>3</td>\n",
       "      <td>False</td>\n",
       "      <td>False</td>\n",
       "    </tr>\n",
       "    <tr>\n",
       "      <th>1</th>\n",
       "      <td>337</td>\n",
       "      <td>gate_30</td>\n",
       "      <td>38</td>\n",
       "      <td>True</td>\n",
       "      <td>False</td>\n",
       "    </tr>\n",
       "    <tr>\n",
       "      <th>2</th>\n",
       "      <td>377</td>\n",
       "      <td>gate_40</td>\n",
       "      <td>165</td>\n",
       "      <td>True</td>\n",
       "      <td>False</td>\n",
       "    </tr>\n",
       "    <tr>\n",
       "      <th>3</th>\n",
       "      <td>483</td>\n",
       "      <td>gate_40</td>\n",
       "      <td>1</td>\n",
       "      <td>False</td>\n",
       "      <td>False</td>\n",
       "    </tr>\n",
       "    <tr>\n",
       "      <th>4</th>\n",
       "      <td>488</td>\n",
       "      <td>gate_40</td>\n",
       "      <td>179</td>\n",
       "      <td>True</td>\n",
       "      <td>True</td>\n",
       "    </tr>\n",
       "  </tbody>\n",
       "</table>\n",
       "</div>"
      ],
      "text/plain": [
       "   userid  version  sum_gamerounds  retention_1  retention_7\n",
       "0     116  gate_30               3        False        False\n",
       "1     337  gate_30              38         True        False\n",
       "2     377  gate_40             165         True        False\n",
       "3     483  gate_40               1        False        False\n",
       "4     488  gate_40             179         True         True"
      ]
     },
     "execution_count": 25,
     "metadata": {},
     "output_type": "execute_result"
    }
   ],
   "source": [
    "data.head()"
   ]
  },
  {
   "cell_type": "code",
   "execution_count": 28,
   "id": "1c49c1a2-afff-4395-ad36-5fd597c054ac",
   "metadata": {},
   "outputs": [
    {
     "name": "stdout",
     "output_type": "stream",
     "text": [
      "p-score 0.0016005742679058301\n"
     ]
    }
   ],
   "source": [
    "# chi-squared test\n",
    "\n",
    "from scipy.stats import chi2_contingency\n",
    "contigency_table = pd.crosstab(data['version'], data['retention_7'])\n",
    "result = chi2_contingency(contigency_table)\n",
    "print(\"p-score\",result[1])"
   ]
  },
  {
   "cell_type": "code",
   "execution_count": 31,
   "id": "d2f30f2b-aa8c-4566-9c3c-c8bd96ac933d",
   "metadata": {},
   "outputs": [],
   "source": [
    "# p-score < 0.05 suggesting that we reject the null hypothesis and there is a significant difference in player retention between 2 groups"
   ]
  },
  {
   "cell_type": "code",
   "execution_count": null,
   "id": "1d356a45-921a-4e47-b841-507ce960309c",
   "metadata": {},
   "outputs": [],
   "source": []
  }
 ],
 "metadata": {
  "kernelspec": {
   "display_name": "Python 3 [3.10]",
   "language": "python",
   "name": "python3"
  },
  "language_info": {
   "codemirror_mode": {
    "name": "ipython",
    "version": 3
   },
   "file_extension": ".py",
   "mimetype": "text/x-python",
   "name": "python",
   "nbconvert_exporter": "python",
   "pygments_lexer": "ipython3",
   "version": "3.10.2"
  }
 },
 "nbformat": 4,
 "nbformat_minor": 5
}
